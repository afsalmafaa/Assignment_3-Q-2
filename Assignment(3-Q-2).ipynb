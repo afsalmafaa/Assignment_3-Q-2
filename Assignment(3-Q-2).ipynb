{
 "cells": [
  {
   "cell_type": "code",
   "execution_count": 6,
   "id": "96d69d87",
   "metadata": {},
   "outputs": [
    {
     "name": "stdout",
     "output_type": "stream",
     "text": [
      "Sample String: 1234abcd\n",
      "Expected Output: dcba4321\n"
     ]
    }
   ],
   "source": [
    "def reverse_string(str):\n",
    "    rstr =''\n",
    "    index = len(str)\n",
    "    while index>0:\n",
    "        rstr +=str[index - 1]\n",
    "        index = index - 1\n",
    "    return rstr\n",
    "sample_string = \"1234abcd\"\n",
    "print(\"Sample String:\",sample_string)\n",
    "print(\"Expected Output:\",reverse_string(sample_string))"
   ]
  }
 ],
 "metadata": {
  "kernelspec": {
   "display_name": "Python 3 (ipykernel)",
   "language": "python",
   "name": "python3"
  },
  "language_info": {
   "codemirror_mode": {
    "name": "ipython",
    "version": 3
   },
   "file_extension": ".py",
   "mimetype": "text/x-python",
   "name": "python",
   "nbconvert_exporter": "python",
   "pygments_lexer": "ipython3",
   "version": "3.10.9"
  }
 },
 "nbformat": 4,
 "nbformat_minor": 5
}
